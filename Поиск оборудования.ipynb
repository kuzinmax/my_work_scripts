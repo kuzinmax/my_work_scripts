{
 "cells": [
  {
   "cell_type": "code",
   "execution_count": 51,
   "id": "c4a92d73",
   "metadata": {},
   "outputs": [],
   "source": [
    "import numpy as np\n",
    "import pandas as pd\n",
    "import os\n",
    "import re"
   ]
  },
  {
   "cell_type": "code",
   "execution_count": 121,
   "id": "39287954",
   "metadata": {},
   "outputs": [
    {
     "data": {
      "text/plain": [
       "'#UN0002##ViVOpay kiosk III контроллер#204H314110#ViVOpay kiosk III антенна#207G196120##2000005453489#1####2000005453502#1##  Произведена установка NFC контроллер 204H314110 антенна 207G196120'"
      ]
     },
     "execution_count": 121,
     "metadata": {},
     "output_type": "execute_result"
    }
   ],
   "source": [
    "requests_sd = pd.read_excel('отгруженное оборудование ПРЦ.xlsx', sheet_name='Заявки')\n",
    "wizar_pos = pd.read_excel('отгруженное оборудование ПРЦ.xlsx', sheet_name='POS')\n",
    "tsos = pd.read_excel('отгруженное оборудование ПРЦ.xlsx', sheet_name='ТСО')\n",
    "ptrn_wizar_serial_number = 'WP\\d{5}Q\\d{8}'"
   ]
  },
  {
   "cell_type": "markdown",
   "id": "a46e64ec",
   "metadata": {},
   "source": [
    "### Получения списка серийников для NFC ридеров"
   ]
  },
  {
   "cell_type": "code",
   "execution_count": 164,
   "id": "c81e3c1e",
   "metadata": {},
   "outputs": [],
   "source": [
    "ptrn_tso_antena_sn = '\\d{3}[G]?\\d{6}'\n",
    "ptrn_tso_kontrol_sn = '\\d{3}[H]?\\d{6}'\n",
    "wizar_pos_istall = requests_sd[requests_sd['Решение / Обходной путь'].str.contains('#UN0002')]\n",
    "wizar_pos_istall.index = np.arange(0, len(wizar_pos_istall['ID']))\n",
    "seria_solution = dict(wizar_pos_istall[['ID', 'КЭ Адрес', 'Решение / Обходной путь']])"
   ]
  },
  {
   "cell_type": "code",
   "execution_count": 171,
   "id": "a2b0750d",
   "metadata": {},
   "outputs": [],
   "source": [
    "dict_ids_tso = {\n",
    "    'ID': [],\n",
    "    'Решение': [],\n",
    "    'Адрес': [],\n",
    "    'Антенна': [],\n",
    "    'Контроллер': []\n",
    "}"
   ]
  },
  {
   "cell_type": "code",
   "execution_count": 175,
   "id": "23e4d744",
   "metadata": {},
   "outputs": [],
   "source": [
    "for i in range(len(seria_solution['Решение / Обходной путь'])):\n",
    "    result_antena = re.search(ptrn_tso_antena_sn, seria_solution['Решение / Обходной путь'][i])\n",
    "    result_kontrol = re.search(ptrn_tso_kontrol_sn, seria_solution['Решение / Обходной путь'][i])\n",
    "    dict_ids_tso['ID'].append(seria_solution['ID'][i])\n",
    "    dict_ids_tso['Решение'].append(seria_solution['Решение / Обходной путь'][i])\n",
    "    dict_ids_tso['Адрес'].append(seria_solution['КЭ Адрес'][i])\n",
    "    try:\n",
    "        dict_ids_tso['Антенна'].append(result_antena.group(0))\n",
    "    except AttributeError:\n",
    "        dict_ids_tso['Антенна'].append(0)\n",
    "        \n",
    "    try:\n",
    "        dict_ids_tso['Контроллер'].append(result_kontrol.group(0))\n",
    "    except AttributeError:\n",
    "        dict_ids_tso['Контроллер'].append(0)\n",
    "\n",
    "pd.DataFrame(dict_ids_tso).to_excel('tso_sns.xlsx')\n",
    "#for key, val in dict_ids_tso.items():\n",
    "#    print(f'{key}: {len(val)}')\n",
    "    \n"
   ]
  },
  {
   "cell_type": "markdown",
   "id": "48062726",
   "metadata": {},
   "source": [
    "### Получения списка серийников для WizarPOS"
   ]
  },
  {
   "cell_type": "code",
   "execution_count": 104,
   "id": "0e81eaf4",
   "metadata": {},
   "outputs": [],
   "source": [
    "wizar_pos_solution_df = wizar_pos_unistall[['ID', 'Решение / Обходной путь', 'КЭ Адрес', 'КЭ Код ТБ']]"
   ]
  },
  {
   "cell_type": "code",
   "execution_count": 118,
   "id": "c620c51e",
   "metadata": {},
   "outputs": [
    {
     "name": "stderr",
     "output_type": "stream",
     "text": [
      "C:\\Users\\kuzinmy\\AppData\\Local\\Temp/ipykernel_15184/1339458861.py:14: SettingWithCopyWarning: \n",
      "A value is trying to be set on a copy of a slice from a DataFrame.\n",
      "Try using .loc[row_indexer,col_indexer] = value instead\n",
      "\n",
      "See the caveats in the documentation: https://pandas.pydata.org/pandas-docs/stable/user_guide/indexing.html#returning-a-view-versus-a-copy\n",
      "  wizar_pos_solution_df['SN'] = wizar_pos_istall_list\n"
     ]
    },
    {
     "data": {
      "text/plain": [
       "460"
      ]
     },
     "execution_count": 118,
     "metadata": {},
     "output_type": "execute_result"
    }
   ],
   "source": [
    "wizar_pos_solution = list(wizar_pos_unistall['Решение / Обходной путь'])\n",
    "wizar_pos_istall_list = []\n",
    "wizar_pos_istall_incorrect_sn_list = []\n",
    "\n",
    "for val in wizar_pos_solution:\n",
    "    result = re.search(ptrn_wizar_serial_number, val)\n",
    "    try:\n",
    "        wizar_pos_istall_list.append(result.group(0))\n",
    "    except AttributeError:\n",
    "        wizar_pos_istall_list.append(val)\n",
    "\n",
    "len(wizar_pos_istall_list)\n",
    "\n",
    "wizar_pos_solution_df['SN'] = wizar_pos_istall_list\n",
    "wizar_pos_solution_df.index = np.arange(1, len(wizar_pos_solution_df['SN']) + 1)\n",
    "#pd.DataFrame(wizar_pos_solution_df['SN'].value_counts()).to_excel('Counts.xlsx')\n",
    "len(wizar_pos_solution_df['SN'].unique())"
   ]
  },
  {
   "cell_type": "code",
   "execution_count": 80,
   "id": "20da9151",
   "metadata": {},
   "outputs": [
    {
     "data": {
      "text/plain": [
       "456"
      ]
     },
     "execution_count": 80,
     "metadata": {},
     "output_type": "execute_result"
    }
   ],
   "source": [
    "wizar_pos_istall_df = pd.DataFrame(wizar_pos_istall_list, columns=['SN'])\n",
    "wizar_pos_istall_df['SN'].unique()"
   ]
  }
 ],
 "metadata": {
  "kernelspec": {
   "display_name": "Python 3 (ipykernel)",
   "language": "python",
   "name": "python3"
  },
  "language_info": {
   "codemirror_mode": {
    "name": "ipython",
    "version": 3
   },
   "file_extension": ".py",
   "mimetype": "text/x-python",
   "name": "python",
   "nbconvert_exporter": "python",
   "pygments_lexer": "ipython3",
   "version": "3.9.7"
  }
 },
 "nbformat": 4,
 "nbformat_minor": 5
}
